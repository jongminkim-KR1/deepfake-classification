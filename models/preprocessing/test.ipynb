{
 "cells": [
  {
   "cell_type": "code",
   "execution_count": null,
   "id": "2bb59ba2",
   "metadata": {},
   "outputs": [],
   "source": [
    "#pip install onnxruntime\n"
   ]
  },
  {
   "cell_type": "code",
   "execution_count": null,
   "id": "00738fcb",
   "metadata": {},
   "outputs": [],
   "source": [
    "#! pip install insightface"
   ]
  },
  {
   "cell_type": "code",
   "execution_count": null,
   "id": "734eb924",
   "metadata": {},
   "outputs": [],
   "source": [
    "#! pip install opencv-python\n"
   ]
  },
  {
   "cell_type": "code",
   "execution_count": null,
   "id": "3102de21",
   "metadata": {},
   "outputs": [],
   "source": [
    "# ! pip install torch==2.3.0 torchvision==0.18.0 torchaudio==2.3.0 --index-url https://download.pytorch.org/whl/cpu\n"
   ]
  },
  {
   "cell_type": "code",
   "execution_count": null,
   "id": "bc5b32e6",
   "metadata": {},
   "outputs": [],
   "source": [
    "from face_dataset import save_crops\n",
    "\n",
    "save_crops(\n",
    "    in_dir=\"data\", \n",
    "    out_dir=\"data_cropped\",\n",
    "    providers=(\"CUDAExecutionProvider\", \"CPUExecutionProvider\"),  # 맥북이면 (\"CPUExecutionProvider\",)\n",
    "    det_size=(640, 640)\n",
    ")\n"
   ]
  },
  {
   "cell_type": "code",
   "execution_count": null,
   "id": "00681159",
   "metadata": {},
   "outputs": [],
   "source": [
    "from face_dataset import FaceData, process\n",
    "from torch.utils.data import DataLoader\n",
    "\n",
    "# 크롭된 이미지들을 텐서로 로드\n",
    "ds = FaceData(\n",
    "    root=\"data_cropped\",    # 크롭 결과 폴더\n",
    "    normalize=True,\n",
    "    transform=process\n",
    ")\n",
    "\n",
    "loader = DataLoader(ds, batch_size=64, shuffle=True, num_workers=4)\n",
    "\n",
    "imgs, labels = next(iter(loader))\n",
    "print(imgs.shape)   # torch.Size([64, 3, 512, 512])\n"
   ]
  },
  {
   "cell_type": "code",
   "execution_count": null,
   "id": "330edfca",
   "metadata": {},
   "outputs": [],
   "source": []
  }
 ],
 "metadata": {
  "kernelspec": {
   "display_name": "tfmac311",
   "language": "python",
   "name": "python3"
  },
  "language_info": {
   "codemirror_mode": {
    "name": "ipython",
    "version": 3
   },
   "file_extension": ".py",
   "mimetype": "text/x-python",
   "name": "python",
   "nbconvert_exporter": "python",
   "pygments_lexer": "ipython3",
   "version": "3.11.14"
  }
 },
 "nbformat": 4,
 "nbformat_minor": 5
}
